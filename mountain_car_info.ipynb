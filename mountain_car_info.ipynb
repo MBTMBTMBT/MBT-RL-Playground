{
 "cells": [
  {
   "cell_type": "code",
   "id": "initial_id",
   "metadata": {
    "collapsed": true,
    "ExecuteTime": {
     "end_time": "2024-12-03T12:16:30.100337Z",
     "start_time": "2024-12-03T12:16:29.402872Z"
    }
   },
   "source": "from q_table_agent import QTableAgent",
   "outputs": [],
   "execution_count": 1
  },
  {
   "metadata": {
    "ExecuteTime": {
     "end_time": "2024-12-03T12:16:30.546706Z",
     "start_time": "2024-12-03T12:16:30.106276Z"
    }
   },
   "cell_type": "code",
   "source": [
    "agent0 = QTableAgent.load_q_table('./experiments/MountainCar_Experiments_0/MC-30-15_run_4_q_table_final.csv')\n",
    "agent1 = QTableAgent.load_q_table('./experiments/MountainCar_Experiments_0/MC-30-15_run_4_q_table_3.csv')\n",
    "result0 = agent0.query_q_table([])\n",
    "result1 = agent1.query_q_table([])\n",
    "df0 = QTableAgent.compute_action_probabilities(result0, strategy=\"softmax\")\n",
    "df1 = QTableAgent.compute_action_probabilities(result1, strategy=\"softmax\")\n",
    "print(df0)\n",
    "print(df1)"
   ],
   "id": "cda0d6a80312fd2d",
   "outputs": [
    {
     "name": "stdout",
     "output_type": "stream",
     "text": [
      "Loading sparse Q-Table and configuration from ./experiments/MountainCar_Experiments_0/MC-30-15_run_4_q_table_final.csv...\n",
      "Sparse Q-Table Details:\n",
      " - State Space Dimensions: 2\n",
      "   Sizes: [24, 24]\n",
      " - Action Space Dimensions: 1\n",
      "   Sizes: 3\n",
      " - Non-Zero Entries in Sparse Q-Table: 0\n",
      " - Total Possible Entries (Dense): 1728\n",
      " - Sparsity: 100.00%\n",
      "Sparse Q-Table successfully loaded.\n",
      "Sparse Q-Table Details:\n",
      " - State Space Dimensions: 2\n",
      "   Sizes: [24, 24]\n",
      " - Action Space Dimensions: 1\n",
      "   Sizes: 3\n",
      " - Non-Zero Entries in Sparse Q-Table: 1230\n",
      " - Total Possible Entries (Dense): 1728\n",
      " - Sparsity: 28.82%\n",
      "Loading sparse Q-Table and configuration from ./experiments/MountainCar_Experiments_0/MC-30-15_run_4_q_table_3.csv...\n",
      "Sparse Q-Table Details:\n",
      " - State Space Dimensions: 2\n",
      "   Sizes: [24, 24]\n",
      " - Action Space Dimensions: 1\n",
      "   Sizes: 3\n",
      " - Non-Zero Entries in Sparse Q-Table: 0\n",
      " - Total Possible Entries (Dense): 1728\n",
      " - Sparsity: 100.00%\n",
      "Sparse Q-Table successfully loaded.\n",
      "Sparse Q-Table Details:\n",
      " - State Space Dimensions: 2\n",
      "   Sizes: [24, 24]\n",
      " - Action Space Dimensions: 1\n",
      "   Sizes: 3\n",
      " - Non-Zero Entries in Sparse Q-Table: 1230\n",
      " - Total Possible Entries (Dense): 1728\n",
      " - Sparsity: 28.82%\n",
      "     State_0_Index  State_1_Index  State_0_Value  State_1_Value  \\\n",
      "0                0              1      -1.200000      -0.063913   \n",
      "1                0              2      -1.200000      -0.057826   \n",
      "2                0              3      -1.200000      -0.051739   \n",
      "3                0              4      -1.200000      -0.045652   \n",
      "4                0              5      -1.200000      -0.039565   \n",
      "..             ...            ...            ...            ...   \n",
      "407             21             14       0.443478       0.015217   \n",
      "408             21             15       0.443478       0.021304   \n",
      "409             21             16       0.443478       0.027391   \n",
      "410             21             17       0.443478       0.033478   \n",
      "411             21             18       0.443478       0.039565   \n",
      "\n",
      "     Action_0_Index_0_Probability  Action_0_Index_1_Probability  \\\n",
      "0                        0.458065                      0.384222   \n",
      "1                        0.000113                      0.999877   \n",
      "2                        0.000038                      0.999961   \n",
      "3                        0.999461                      0.000539   \n",
      "4                        0.999980                      0.000020   \n",
      "..                            ...                           ...   \n",
      "407                      0.143340                      0.248990   \n",
      "408                      0.025836                      0.030357   \n",
      "409                      0.084302                      0.156336   \n",
      "410                      0.249110                      0.312165   \n",
      "411                      0.324214                      0.341820   \n",
      "\n",
      "     Action_0_Index_2_Probability  Visit_Count  \n",
      "0                    1.577130e-01       1928.0  \n",
      "1                    1.041266e-05      56964.0  \n",
      "2                    6.807288e-07     156871.0  \n",
      "3                    6.852164e-08     180801.0  \n",
      "4                    1.074076e-07     161181.0  \n",
      "..                            ...          ...  \n",
      "407                  6.076698e-01     380874.0  \n",
      "408                  9.438070e-01     301779.0  \n",
      "409                  7.593620e-01     141360.0  \n",
      "410                  4.387252e-01      39874.0  \n",
      "411                  3.339656e-01       6245.0  \n",
      "\n",
      "[412 rows x 8 columns]\n",
      "     State_0_Index  State_1_Index  State_0_Value  State_1_Value  \\\n",
      "0                0              1      -1.200000      -0.063913   \n",
      "1                0              2      -1.200000      -0.057826   \n",
      "2                0              3      -1.200000      -0.051739   \n",
      "3                0              4      -1.200000      -0.045652   \n",
      "4                0              5      -1.200000      -0.039565   \n",
      "..             ...            ...            ...            ...   \n",
      "407             21             14       0.443478       0.015217   \n",
      "408             21             15       0.443478       0.021304   \n",
      "409             21             16       0.443478       0.027391   \n",
      "410             21             17       0.443478       0.033478   \n",
      "411             21             18       0.443478       0.039565   \n",
      "\n",
      "     Action_0_Index_0_Probability  Action_0_Index_1_Probability  \\\n",
      "0                        0.458065                      0.384222   \n",
      "1                        0.000113                      0.999877   \n",
      "2                        0.000038                      0.999961   \n",
      "3                        0.999402                      0.000598   \n",
      "4                        0.999978                      0.000022   \n",
      "..                            ...                           ...   \n",
      "407                      0.143340                      0.248990   \n",
      "408                      0.025836                      0.030357   \n",
      "409                      0.084302                      0.156336   \n",
      "410                      0.249110                      0.312165   \n",
      "411                      0.324214                      0.341820   \n",
      "\n",
      "     Action_0_Index_2_Probability  Visit_Count  \n",
      "0                    1.577130e-01       1928.0  \n",
      "1                    1.041266e-05      56964.0  \n",
      "2                    6.807288e-07     156871.0  \n",
      "3                    7.599336e-08     180795.0  \n",
      "4                    1.183684e-07     161179.0  \n",
      "..                            ...          ...  \n",
      "407                  6.076698e-01     380874.0  \n",
      "408                  9.438070e-01     301779.0  \n",
      "409                  7.593620e-01     141360.0  \n",
      "410                  4.387252e-01      39874.0  \n",
      "411                  3.339656e-01       6245.0  \n",
      "\n",
      "[412 rows x 8 columns]\n"
     ]
    }
   ],
   "execution_count": 2
  },
  {
   "metadata": {
    "ExecuteTime": {
     "end_time": "2024-12-03T12:17:29.799626Z",
     "start_time": "2024-12-03T12:17:29.595564Z"
    }
   },
   "cell_type": "code",
   "source": [
    "average_kl = QTableAgent.compute_average_kl_divergence_between_dfs(df0, df1, visit_threshold=0)\n",
    "print(f\"Average KL Divergence: {average_kl:.6f}\")"
   ],
   "id": "a9a8d190fef5a57",
   "outputs": [
    {
     "name": "stdout",
     "output_type": "stream",
     "text": [
      "Average KL Divergence: 0.000601\n"
     ]
    }
   ],
   "execution_count": 13
  }
 ],
 "metadata": {
  "kernelspec": {
   "display_name": "Python 3",
   "language": "python",
   "name": "python3"
  },
  "language_info": {
   "codemirror_mode": {
    "name": "ipython",
    "version": 2
   },
   "file_extension": ".py",
   "mimetype": "text/x-python",
   "name": "python",
   "nbconvert_exporter": "python",
   "pygments_lexer": "ipython2",
   "version": "2.7.6"
  }
 },
 "nbformat": 4,
 "nbformat_minor": 5
}
