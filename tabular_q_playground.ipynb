{
 "cells": [
  {
   "cell_type": "code",
   "id": "initial_id",
   "metadata": {
    "collapsed": true,
    "ExecuteTime": {
     "end_time": "2024-11-25T01:12:52.184317Z",
     "start_time": "2024-11-25T01:12:52.168689Z"
    }
   },
   "source": "from q_table_agent import QTableAgent",
   "outputs": [],
   "execution_count": 4
  },
  {
   "metadata": {
    "ExecuteTime": {
     "end_time": "2024-11-25T01:12:52.341481Z",
     "start_time": "2024-11-25T01:12:52.184317Z"
    }
   },
   "cell_type": "code",
   "source": [
    "agent = QTableAgent.load_q_table('./experiments/cartpole/q_table_agent.csv')\n",
    "result = agent.query_q_table([])\n",
    "print(result)"
   ],
   "id": "cda0d6a80312fd2d",
   "outputs": [
    {
     "name": "stdout",
     "output_type": "stream",
     "text": [
      "Loading sparse Q-Table and configuration from ./experiments/cartpole/q_table_agent.csv...\n",
      "Sparse Q-Table Details:\n",
      " - State Space Dimensions: 4\n",
      "   Sizes: [6, 12, 16, 12]\n",
      " - Action Space Dimensions: 1\n",
      "   Sizes: 2\n",
      " - Non-Zero Entries in Sparse Q-Table: 0\n",
      " - Total Possible Entries (Dense): 27648\n",
      " - Sparsity: 100.00%\n",
      "Sparse Q-Table successfully loaded.\n",
      "Sparse Q-Table Details:\n",
      " - State Space Dimensions: 4\n",
      "   Sizes: [6, 12, 16, 12]\n",
      " - Action Space Dimensions: 1\n",
      "   Sizes: 2\n",
      " - Non-Zero Entries in Sparse Q-Table: 3734\n",
      " - Total Possible Entries (Dense): 27648\n",
      " - Sparsity: 86.49%\n",
      "      State_0_Index  State_1_Index  State_2_Index  State_3_Index  \\\n",
      "0                 2              5              7              5   \n",
      "1                 2              4              7              6   \n",
      "2                 2              4              7              7   \n",
      "3                 2              3              8              7   \n",
      "4                 2              3              8              8   \n",
      "...             ...            ...            ...            ...   \n",
      "3729              4              8             10              7   \n",
      "3730              4              9              9              6   \n",
      "3731              3              8              3              5   \n",
      "3732              4              2              6             10   \n",
      "3733              1              7              7              2   \n",
      "\n",
      "      State_0_Value  State_1_Value  State_2_Value  State_3_Value  \\\n",
      "0             -0.48      -0.181818      -0.016667      -0.181818   \n",
      "1             -0.48      -0.545455      -0.016667       0.181818   \n",
      "2             -0.48      -0.545455      -0.016667       0.545455   \n",
      "3             -0.48      -0.909091       0.016667       0.545455   \n",
      "4             -0.48      -0.909091       0.016667       0.909091   \n",
      "...             ...            ...            ...            ...   \n",
      "3729           1.44       0.909091       0.083333       0.545455   \n",
      "3730           1.44       1.272727       0.050000       0.181818   \n",
      "3731           0.48       0.909091      -0.150000      -0.181818   \n",
      "3732           1.44      -1.272727      -0.050000       1.636364   \n",
      "3733          -1.44       0.545455      -0.016667      -1.272727   \n",
      "\n",
      "      Action_0_Index    Q_Value  Visit_Count  \n",
      "0                  0  99.856220     217501.0  \n",
      "1                  0  99.576847      37827.0  \n",
      "2                  0  98.778931       3777.0  \n",
      "3                  0  93.535459        989.0  \n",
      "4                  0  48.688607        604.0  \n",
      "...              ...        ...          ...  \n",
      "3729               1   0.149497          1.0  \n",
      "3730               1   0.222880          1.0  \n",
      "3731               0   1.610255          1.0  \n",
      "3732               1   0.233621          1.0  \n",
      "3733               0   4.746540          1.0  \n",
      "\n",
      "[3734 rows x 11 columns]\n"
     ]
    }
   ],
   "execution_count": 5
  },
  {
   "metadata": {
    "ExecuteTime": {
     "end_time": "2024-11-25T01:12:52.372883Z",
     "start_time": "2024-11-25T01:12:52.341481Z"
    }
   },
   "cell_type": "code",
   "source": [
    "filters = [\n",
    "    {\"field\": \"State_0_Index\", \"operator\": \">\", \"value\": 2},\n",
    "    {\"field\": \"Action_0_Index\", \"operator\": \"=\", \"value\": 1}\n",
    "]\n",
    "result = agent.query_q_table(filters)\n",
    "print(result)\n"
   ],
   "id": "a9a8d190fef5a57",
   "outputs": [
    {
     "name": "stdout",
     "output_type": "stream",
     "text": [
      "      State_0_Index  State_1_Index  State_2_Index  State_3_Index  \\\n",
      "440               3              4              6              8   \n",
      "486               3              6             12              7   \n",
      "494               3              6             10              6   \n",
      "504               3              5             12              8   \n",
      "505               3              5             13              8   \n",
      "...             ...            ...            ...            ...   \n",
      "3724              4              9              2              2   \n",
      "3726              4              2              6              9   \n",
      "3729              4              8             10              7   \n",
      "3730              4              9              9              6   \n",
      "3732              4              2              6             10   \n",
      "\n",
      "      State_0_Value  State_1_Value  State_2_Value  State_3_Value  \\\n",
      "440            0.48      -0.545455      -0.050000       0.909091   \n",
      "486            0.48       0.181818       0.150000       0.545455   \n",
      "494            0.48       0.181818       0.083333       0.181818   \n",
      "504            0.48      -0.181818       0.150000       0.909091   \n",
      "505            0.48      -0.181818       0.183333       0.909091   \n",
      "...             ...            ...            ...            ...   \n",
      "3724           1.44       1.272727      -0.183333      -1.272727   \n",
      "3726           1.44      -1.272727      -0.050000       1.272727   \n",
      "3729           1.44       0.909091       0.083333       0.545455   \n",
      "3730           1.44       1.272727       0.050000       0.181818   \n",
      "3732           1.44      -1.272727      -0.050000       1.636364   \n",
      "\n",
      "      Action_0_Index    Q_Value  Visit_Count  \n",
      "440                1  90.430249        546.0  \n",
      "486                1   5.859682        675.0  \n",
      "494                1  42.153941        145.0  \n",
      "504                1   3.099072        164.0  \n",
      "505                1   1.908562        165.0  \n",
      "...              ...        ...          ...  \n",
      "3724               1   0.055623          1.0  \n",
      "3726               1   8.444081          3.0  \n",
      "3729               1   0.149497          1.0  \n",
      "3730               1   0.222880          1.0  \n",
      "3732               1   0.233621          1.0  \n",
      "\n",
      "[881 rows x 11 columns]\n"
     ]
    }
   ],
   "execution_count": 6
  }
 ],
 "metadata": {
  "kernelspec": {
   "display_name": "Python 3",
   "language": "python",
   "name": "python3"
  },
  "language_info": {
   "codemirror_mode": {
    "name": "ipython",
    "version": 2
   },
   "file_extension": ".py",
   "mimetype": "text/x-python",
   "name": "python",
   "nbconvert_exporter": "python",
   "pygments_lexer": "ipython2",
   "version": "2.7.6"
  }
 },
 "nbformat": 4,
 "nbformat_minor": 5
}
