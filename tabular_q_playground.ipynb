{
 "cells": [
  {
   "cell_type": "code",
   "id": "initial_id",
   "metadata": {
    "collapsed": true,
    "ExecuteTime": {
     "end_time": "2024-11-25T01:43:32.561792Z",
     "start_time": "2024-11-25T01:43:32.231398Z"
    }
   },
   "source": "from q_table_agent import QTableAgent",
   "outputs": [],
   "execution_count": 1
  },
  {
   "metadata": {
    "ExecuteTime": {
     "end_time": "2024-11-25T01:43:32.722029Z",
     "start_time": "2024-11-25T01:43:32.561792Z"
    }
   },
   "cell_type": "code",
   "source": [
    "agent = QTableAgent.load_q_table('./experiments/cartpole/q_table_agent.csv')\n",
    "result = agent.query_q_table([])\n",
    "print(result)"
   ],
   "id": "cda0d6a80312fd2d",
   "outputs": [
    {
     "name": "stdout",
     "output_type": "stream",
     "text": [
      "Loading sparse Q-Table and configuration from ./experiments/cartpole/q_table_agent.csv...\n",
      "Sparse Q-Table Details:\n",
      " - State Space Dimensions: 4\n",
      "   Sizes: [6, 12, 16, 12]\n",
      " - Action Space Dimensions: 1\n",
      "   Sizes: 2\n",
      " - Non-Zero Entries in Sparse Q-Table: 0\n",
      " - Total Possible Entries (Dense): 27648\n",
      " - Sparsity: 100.00%\n",
      "Sparse Q-Table successfully loaded.\n",
      "Sparse Q-Table Details:\n",
      " - State Space Dimensions: 4\n",
      "   Sizes: [6, 12, 16, 12]\n",
      " - Action Space Dimensions: 1\n",
      "   Sizes: 2\n",
      " - Non-Zero Entries in Sparse Q-Table: 3734\n",
      " - Total Possible Entries (Dense): 27648\n",
      " - Sparsity: 86.49%\n",
      "      State_0_Index  State_1_Index  State_2_Index  State_3_Index  \\\n",
      "0                 2              5              7              5   \n",
      "1                 2              4              7              6   \n",
      "2                 2              4              7              7   \n",
      "3                 2              3              8              7   \n",
      "4                 2              3              8              8   \n",
      "...             ...            ...            ...            ...   \n",
      "3729              4              8             10              7   \n",
      "3730              4              9              9              6   \n",
      "3731              3              8              3              5   \n",
      "3732              4              2              6             10   \n",
      "3733              1              7              7              2   \n",
      "\n",
      "      State_0_Value  State_1_Value  State_2_Value  State_3_Value  \\\n",
      "0             -0.48      -0.181818      -0.016667      -0.181818   \n",
      "1             -0.48      -0.545455      -0.016667       0.181818   \n",
      "2             -0.48      -0.545455      -0.016667       0.545455   \n",
      "3             -0.48      -0.909091       0.016667       0.545455   \n",
      "4             -0.48      -0.909091       0.016667       0.909091   \n",
      "...             ...            ...            ...            ...   \n",
      "3729           1.44       0.909091       0.083333       0.545455   \n",
      "3730           1.44       1.272727       0.050000       0.181818   \n",
      "3731           0.48       0.909091      -0.150000      -0.181818   \n",
      "3732           1.44      -1.272727      -0.050000       1.636364   \n",
      "3733          -1.44       0.545455      -0.016667      -1.272727   \n",
      "\n",
      "      Action_0_Index    Q_Value  Visit_Count  \n",
      "0                  0  99.856220     217501.0  \n",
      "1                  0  99.576847      37827.0  \n",
      "2                  0  98.778931       3777.0  \n",
      "3                  0  93.535459        989.0  \n",
      "4                  0  48.688607        604.0  \n",
      "...              ...        ...          ...  \n",
      "3729               1   0.149497          1.0  \n",
      "3730               1   0.222880          1.0  \n",
      "3731               0   1.610255          1.0  \n",
      "3732               1   0.233621          1.0  \n",
      "3733               0   4.746540          1.0  \n",
      "\n",
      "[3734 rows x 11 columns]\n"
     ]
    }
   ],
   "execution_count": 2
  },
  {
   "metadata": {
    "ExecuteTime": {
     "end_time": "2024-11-25T01:43:32.753673Z",
     "start_time": "2024-11-25T01:43:32.722029Z"
    }
   },
   "cell_type": "code",
   "source": [
    "filters = [\n",
    "    {\"field\": \"State_0_Value\", \"operator\": \">\", \"value\": 1},\n",
    "    {\"field\": \"State_1_Value\", \"operator\": \"<\", \"value\": 0}\n",
    "]\n",
    "result = agent.query_q_table(filters)\n",
    "print(result)\n"
   ],
   "id": "a9a8d190fef5a57",
   "outputs": [
    {
     "name": "stdout",
     "output_type": "stream",
     "text": [
      "      State_0_Index  State_1_Index  State_2_Index  State_3_Index  \\\n",
      "1161              4              5              7              7   \n",
      "1162              4              5              7              8   \n",
      "1163              4              4              8              9   \n",
      "1164              4              4              9             10   \n",
      "1165              4              3             10             11   \n",
      "...             ...            ...            ...            ...   \n",
      "3720              4              5             10             11   \n",
      "3721              4              4              5              5   \n",
      "3722              4              2              8              9   \n",
      "3726              4              2              6              9   \n",
      "3732              4              2              6             10   \n",
      "\n",
      "      State_0_Value  State_1_Value  State_2_Value  State_3_Value  \\\n",
      "1161           1.44      -0.181818      -0.016667       0.545455   \n",
      "1162           1.44      -0.181818      -0.016667       0.909091   \n",
      "1163           1.44      -0.545455       0.016667       1.272727   \n",
      "1164           1.44      -0.545455       0.050000       1.636364   \n",
      "1165           1.44      -0.909091       0.083333       2.000000   \n",
      "...             ...            ...            ...            ...   \n",
      "3720           1.44      -0.181818       0.083333       2.000000   \n",
      "3721           1.44      -0.545455      -0.083333      -0.181818   \n",
      "3722           1.44      -1.272727       0.016667       1.272727   \n",
      "3726           1.44      -1.272727      -0.050000       1.272727   \n",
      "3732           1.44      -1.272727      -0.050000       1.636364   \n",
      "\n",
      "      Action_0_Index    Q_Value  Visit_Count  \n",
      "1161               0  19.690102        883.0  \n",
      "1162               0  10.795789        331.0  \n",
      "1163               0   4.394865        224.0  \n",
      "1164               0   3.598932        118.0  \n",
      "1165               0   2.630334         68.0  \n",
      "...              ...        ...          ...  \n",
      "3720               0   0.158351          1.0  \n",
      "3721               0   1.687524          1.0  \n",
      "3722               1   0.485446          1.0  \n",
      "3726               1   8.444081          3.0  \n",
      "3732               1   0.233621          1.0  \n",
      "\n",
      "[390 rows x 11 columns]\n"
     ]
    }
   ],
   "execution_count": 3
  },
  {
   "metadata": {
    "ExecuteTime": {
     "end_time": "2024-11-25T01:43:33.961759Z",
     "start_time": "2024-11-25T01:43:32.753673Z"
    }
   },
   "cell_type": "code",
   "source": [
    "result = agent.query_q_table([])\n",
    "new_df = QTableAgent.compute_action_probabilities(result, strategy=\"greedy\", epsilon=0.1)\n",
    "print(new_df)\n",
    "new_df = QTableAgent.compute_action_probabilities(result, strategy=\"softmax\", temperature=1.0)\n",
    "print(new_df)"
   ],
   "id": "b01e3b08e4d0d06a",
   "outputs": [
    {
     "name": "stdout",
     "output_type": "stream",
     "text": [
      "      State_0_Value  State_1_Value  State_2_Value  State_3_Value  \\\n",
      "0             -1.44      -2.000000      -0.216667       0.545455   \n",
      "1             -1.44      -2.000000      -0.183333       0.181818   \n",
      "2             -1.44      -2.000000      -0.183333       0.545455   \n",
      "3             -1.44      -2.000000      -0.150000       0.181818   \n",
      "4             -1.44      -2.000000      -0.150000       0.545455   \n",
      "...             ...            ...            ...            ...   \n",
      "2183           1.44       1.636364      -0.016667      -0.909091   \n",
      "2184           1.44       1.636364       0.016667      -0.909091   \n",
      "2185           1.44       1.636364       0.016667      -0.545455   \n",
      "2186           1.44       1.636364       0.050000      -0.909091   \n",
      "2187           1.44       1.636364       0.050000      -0.545455   \n",
      "\n",
      "      Action_0_Probability  Action_1_Probability  Visit_Count  \n",
      "0                     0.00                  0.95          2.0  \n",
      "1                     0.95                  0.00          2.0  \n",
      "2                     0.05                  0.95          4.0  \n",
      "3                     0.95                  0.00          1.0  \n",
      "4                     0.95                  0.00          7.0  \n",
      "...                    ...                   ...          ...  \n",
      "2183                  0.95                  0.00          2.0  \n",
      "2184                  0.95                  0.00          4.0  \n",
      "2185                  0.95                  0.00          4.0  \n",
      "2186                  0.95                  0.00          2.0  \n",
      "2187                  0.95                  0.00          4.0  \n",
      "\n",
      "[2188 rows x 7 columns]\n",
      "      State_0_Value  State_1_Value  State_2_Value  State_3_Value  \\\n",
      "0             -1.44      -2.000000      -0.216667       0.545455   \n",
      "1             -1.44      -2.000000      -0.183333       0.181818   \n",
      "2             -1.44      -2.000000      -0.183333       0.545455   \n",
      "3             -1.44      -2.000000      -0.150000       0.181818   \n",
      "4             -1.44      -2.000000      -0.150000       0.545455   \n",
      "...             ...            ...            ...            ...   \n",
      "2183           1.44       1.636364      -0.016667      -0.909091   \n",
      "2184           1.44       1.636364       0.016667      -0.909091   \n",
      "2185           1.44       1.636364       0.016667      -0.545455   \n",
      "2186           1.44       1.636364       0.050000      -0.909091   \n",
      "2187           1.44       1.636364       0.050000      -0.545455   \n",
      "\n",
      "      Action_0_Probability  Action_1_Probability  Visit_Count  \n",
      "0                 0.000000              1.000000          2.0  \n",
      "1                 1.000000              0.000000          2.0  \n",
      "2                 0.470275              0.529725          4.0  \n",
      "3                 1.000000              0.000000          1.0  \n",
      "4                 1.000000              0.000000          7.0  \n",
      "...                    ...                   ...          ...  \n",
      "2183              1.000000              0.000000          2.0  \n",
      "2184              1.000000              0.000000          4.0  \n",
      "2185              1.000000              0.000000          4.0  \n",
      "2186              1.000000              0.000000          2.0  \n",
      "2187              1.000000              0.000000          4.0  \n",
      "\n",
      "[2188 rows x 7 columns]\n"
     ]
    }
   ],
   "execution_count": 4
  }
 ],
 "metadata": {
  "kernelspec": {
   "display_name": "Python 3",
   "language": "python",
   "name": "python3"
  },
  "language_info": {
   "codemirror_mode": {
    "name": "ipython",
    "version": 2
   },
   "file_extension": ".py",
   "mimetype": "text/x-python",
   "name": "python",
   "nbconvert_exporter": "python",
   "pygments_lexer": "ipython2",
   "version": "2.7.6"
  }
 },
 "nbformat": 4,
 "nbformat_minor": 5
}
