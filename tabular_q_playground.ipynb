{
 "cells": [
  {
   "cell_type": "code",
   "id": "initial_id",
   "metadata": {
    "collapsed": true,
    "ExecuteTime": {
     "end_time": "2024-11-25T04:56:26.654307Z",
     "start_time": "2024-11-25T04:56:26.301458Z"
    }
   },
   "source": "from q_table_agent import QTableAgent",
   "outputs": [],
   "execution_count": 1
  },
  {
   "metadata": {
    "ExecuteTime": {
     "end_time": "2024-11-25T04:56:26.972019Z",
     "start_time": "2024-11-25T04:56:26.654307Z"
    }
   },
   "cell_type": "code",
   "source": [
    "agent = QTableAgent.load_q_table('./experiments/cartpole/q_table_agent.csv')\n",
    "result = agent.query_q_table([])\n",
    "print(result)"
   ],
   "id": "cda0d6a80312fd2d",
   "outputs": [
    {
     "name": "stdout",
     "output_type": "stream",
     "text": [
      "Loading sparse Q-Table and configuration from ./experiments/cartpole/q_table_agent.csv...\n",
      "Sparse Q-Table Details:\n",
      " - State Space Dimensions: 4\n",
      "   Sizes: [16, 16, 16, 16]\n",
      " - Action Space Dimensions: 1\n",
      "   Sizes: 2\n",
      " - Non-Zero Entries in Sparse Q-Table: 0\n",
      " - Total Possible Entries (Dense): 131072\n",
      " - Sparsity: 100.00%\n",
      "Sparse Q-Table successfully loaded.\n",
      "Sparse Q-Table Details:\n",
      " - State Space Dimensions: 4\n",
      "   Sizes: [16, 16, 16, 16]\n",
      " - Action Space Dimensions: 1\n",
      "   Sizes: 2\n",
      " - Non-Zero Entries in Sparse Q-Table: 6528\n",
      " - Total Possible Entries (Dense): 131072\n",
      " - Sparsity: 95.02%\n",
      "      State_0_Index  State_1_Index  State_2_Index  State_3_Index  \\\n",
      "0                 7              7              8              7   \n",
      "1                 7              8              8              6   \n",
      "2                 7              8              8              5   \n",
      "3                 7              8              7              6   \n",
      "4                 7              7              7              7   \n",
      "...             ...            ...            ...            ...   \n",
      "6523              2              3              6             10   \n",
      "6524              2              6              5              4   \n",
      "6525              1              1             12             13   \n",
      "6526              2              4              4              8   \n",
      "6527              2              4              5              8   \n",
      "\n",
      "      State_0_Value  State_1_Value  State_2_Value  State_3_Value  \\\n",
      "0             -0.16      -0.133333       0.016667      -0.133333   \n",
      "1             -0.16       0.133333       0.016667      -0.400000   \n",
      "2             -0.16       0.133333       0.016667      -0.666667   \n",
      "3             -0.16       0.133333      -0.016667      -0.400000   \n",
      "4             -0.16      -0.133333      -0.016667      -0.133333   \n",
      "...             ...            ...            ...            ...   \n",
      "6523          -1.76      -1.200000      -0.050000       0.666667   \n",
      "6524          -1.76      -0.400000      -0.083333      -0.933333   \n",
      "6525          -2.08      -1.733333       0.150000       1.466667   \n",
      "6526          -1.76      -0.933333      -0.116667       0.133333   \n",
      "6527          -1.76      -0.933333      -0.083333       0.133333   \n",
      "\n",
      "      Action_0_Index    Q_Value  Visit_Count  \n",
      "0                  1  90.692216      27498.0  \n",
      "1                  1  90.631289      26378.0  \n",
      "2                  0  85.416852      10655.0  \n",
      "3                  0  86.438656      67005.0  \n",
      "4                  0  91.164255      70074.0  \n",
      "...              ...        ...          ...  \n",
      "6523               0   0.180225          1.0  \n",
      "6524               0   0.338902          1.0  \n",
      "6525               0   0.194017          2.0  \n",
      "6526               0   0.727559          4.0  \n",
      "6527               1   0.543971          1.0  \n",
      "\n",
      "[6528 rows x 11 columns]\n"
     ]
    }
   ],
   "execution_count": 2
  },
  {
   "metadata": {
    "ExecuteTime": {
     "end_time": "2024-11-25T04:56:27.018944Z",
     "start_time": "2024-11-25T04:56:26.972019Z"
    }
   },
   "cell_type": "code",
   "source": [
    "filters = [\n",
    "    {\"field\": \"State_0_Value\", \"operator\": \">\", \"value\": 1},\n",
    "    {\"field\": \"State_1_Value\", \"operator\": \"<\", \"value\": 0}\n",
    "]\n",
    "result = agent.query_q_table(filters)\n",
    "print(result)\n"
   ],
   "id": "a9a8d190fef5a57",
   "outputs": [
    {
     "name": "stdout",
     "output_type": "stream",
     "text": [
      "Empty DataFrame\n",
      "Columns: [State_0_Index, State_1_Index, State_2_Index, State_3_Index, State_0_Value, State_1_Value, State_2_Value, State_3_Value, Action_0_Index, Q_Value, Visit_Count]\n",
      "Index: []\n"
     ]
    }
   ],
   "execution_count": 3
  },
  {
   "metadata": {
    "ExecuteTime": {
     "end_time": "2024-11-25T04:56:29.569596Z",
     "start_time": "2024-11-25T04:56:27.018944Z"
    }
   },
   "cell_type": "code",
   "source": [
    "result = agent.query_q_table([])\n",
    "df = QTableAgent.compute_action_probabilities(result, strategy=\"greedy\", epsilon=0.1)\n",
    "print(df)\n",
    "df = QTableAgent.compute_action_probabilities(result, strategy=\"softmax\", temperature=1.0)\n",
    "print(df)"
   ],
   "id": "b01e3b08e4d0d06a",
   "outputs": [
    {
     "name": "stdout",
     "output_type": "stream",
     "text": [
      "      State_0_Index  State_1_Index  State_2_Index  State_3_Index  \\\n",
      "0                 0              0              7             13   \n",
      "1                 0              0              8             14   \n",
      "2                 0              0              9             12   \n",
      "3                 0              0              9             13   \n",
      "4                 0              0              9             14   \n",
      "...             ...            ...            ...            ...   \n",
      "3964              9              5              9             12   \n",
      "3965              9              6              8             10   \n",
      "3966              9              6              8             11   \n",
      "3967              9              7              7              9   \n",
      "3968              9              8              7              8   \n",
      "\n",
      "      State_0_Value  State_1_Value  State_2_Value  State_3_Value  \\\n",
      "0             -2.40      -2.000000      -0.016667       1.466667   \n",
      "1             -2.40      -2.000000       0.016667       1.733333   \n",
      "2             -2.40      -2.000000       0.050000       1.200000   \n",
      "3             -2.40      -2.000000       0.050000       1.466667   \n",
      "4             -2.40      -2.000000       0.050000       1.733333   \n",
      "...             ...            ...            ...            ...   \n",
      "3964           0.48      -0.666667       0.050000       1.200000   \n",
      "3965           0.48      -0.400000       0.016667       0.666667   \n",
      "3966           0.48      -0.400000       0.016667       0.933333   \n",
      "3967           0.48      -0.133333      -0.016667       0.400000   \n",
      "3968           0.48       0.133333      -0.016667       0.133333   \n",
      "\n",
      "      Action_0_Index_1_Probability  Action_0_Index_0_Probability  Visit_Count  \n",
      "0                              0.0                          0.95          1.0  \n",
      "1                              0.0                          0.95          1.0  \n",
      "2                              0.0                          0.95          2.0  \n",
      "3                              0.0                          0.95          1.0  \n",
      "4                              0.0                          0.95          3.0  \n",
      "...                            ...                           ...          ...  \n",
      "3964                           0.0                          0.95          1.0  \n",
      "3965                           0.0                          0.95          1.0  \n",
      "3966                           0.0                          0.95          1.0  \n",
      "3967                           0.0                          0.95          1.0  \n",
      "3968                           0.0                          0.95          1.0  \n",
      "\n",
      "[3969 rows x 11 columns]\n",
      "      State_0_Index  State_1_Index  State_2_Index  State_3_Index  \\\n",
      "0                 0              0              7             13   \n",
      "1                 0              0              8             14   \n",
      "2                 0              0              9             12   \n",
      "3                 0              0              9             13   \n",
      "4                 0              0              9             14   \n",
      "...             ...            ...            ...            ...   \n",
      "3964              9              5              9             12   \n",
      "3965              9              6              8             10   \n",
      "3966              9              6              8             11   \n",
      "3967              9              7              7              9   \n",
      "3968              9              8              7              8   \n",
      "\n",
      "      State_0_Value  State_1_Value  State_2_Value  State_3_Value  \\\n",
      "0             -2.40      -2.000000      -0.016667       1.466667   \n",
      "1             -2.40      -2.000000       0.016667       1.733333   \n",
      "2             -2.40      -2.000000       0.050000       1.200000   \n",
      "3             -2.40      -2.000000       0.050000       1.466667   \n",
      "4             -2.40      -2.000000       0.050000       1.733333   \n",
      "...             ...            ...            ...            ...   \n",
      "3964           0.48      -0.666667       0.050000       1.200000   \n",
      "3965           0.48      -0.400000       0.016667       0.666667   \n",
      "3966           0.48      -0.400000       0.016667       0.933333   \n",
      "3967           0.48      -0.133333      -0.016667       0.400000   \n",
      "3968           0.48       0.133333      -0.016667       0.133333   \n",
      "\n",
      "      Action_0_Index_1_Probability  Action_0_Index_0_Probability  Visit_Count  \n",
      "0                              0.0                           1.0          1.0  \n",
      "1                              0.0                           1.0          1.0  \n",
      "2                              0.0                           1.0          2.0  \n",
      "3                              0.0                           1.0          1.0  \n",
      "4                              0.0                           1.0          3.0  \n",
      "...                            ...                           ...          ...  \n",
      "3964                           0.0                           1.0          1.0  \n",
      "3965                           0.0                           1.0          1.0  \n",
      "3966                           0.0                           1.0          1.0  \n",
      "3967                           0.0                           1.0          1.0  \n",
      "3968                           0.0                           1.0          1.0  \n",
      "\n",
      "[3969 rows x 11 columns]\n"
     ]
    }
   ],
   "execution_count": 4
  },
  {
   "metadata": {
    "ExecuteTime": {
     "end_time": "2024-11-25T04:56:30.057864Z",
     "start_time": "2024-11-25T04:56:29.569596Z"
    }
   },
   "cell_type": "code",
   "source": [
    "from itertools import combinations\n",
    "\n",
    "# List of all state features\n",
    "state_features = [\"State_0_Index\", \"State_1_Index\", \"State_2_Index\", \"State_3_Index\"]\n",
    "\n",
    "# Iterate over all possible combinations of features\n",
    "for r in range(1, len(state_features) + 1):  # r is the number of features in each combination\n",
    "    for feature_combination in combinations(state_features, r):\n",
    "        # Compute mutual information for the current feature combination\n",
    "        mi = QTableAgent.compute_mutual_information(\n",
    "            df, list(feature_combination), \"Action_0_Index\", use_visit_count=True\n",
    "        )\n",
    "        # Print the results with detailed explanation\n",
    "        print(f\"Mutual Information for Features {feature_combination} with Action_0_Index: {mi}\")\n",
    "\n",
    "# Compute mutual information for all features as values\n",
    "mi = QTableAgent.compute_mutual_information(\n",
    "    df, [\"State_0_Value\", \"State_1_Value\", \"State_2_Value\", \"State_3_Value\"], \"Action_0_Index\", use_visit_count=True\n",
    ")\n",
    "print(f\"Mutual Information for All Features as Values with Action_0_Index: {mi}\")"
   ],
   "id": "5302f359a18267a1",
   "outputs": [
    {
     "name": "stdout",
     "output_type": "stream",
     "text": [
      "Mutual Information for Features ('State_0_Index',) with Action_0_Index: 0.0019058441202399743\n",
      "Mutual Information for Features ('State_1_Index',) with Action_0_Index: 0.019959984576330577\n",
      "Mutual Information for Features ('State_2_Index',) with Action_0_Index: 0.1262079848463312\n",
      "Mutual Information for Features ('State_3_Index',) with Action_0_Index: 0.11098679447405083\n",
      "Mutual Information for Features ('State_0_Index', 'State_1_Index') with Action_0_Index: 0.07286285412985025\n",
      "Mutual Information for Features ('State_0_Index', 'State_2_Index') with Action_0_Index: 0.16101371092841593\n",
      "Mutual Information for Features ('State_0_Index', 'State_3_Index') with Action_0_Index: 0.16427904154778072\n",
      "Mutual Information for Features ('State_1_Index', 'State_2_Index') with Action_0_Index: 0.26696843959201927\n",
      "Mutual Information for Features ('State_1_Index', 'State_3_Index') with Action_0_Index: 0.1690799839104321\n",
      "Mutual Information for Features ('State_2_Index', 'State_3_Index') with Action_0_Index: 0.3527602485129634\n",
      "Mutual Information for Features ('State_0_Index', 'State_1_Index', 'State_2_Index') with Action_0_Index: 0.428247359568038\n",
      "Mutual Information for Features ('State_0_Index', 'State_1_Index', 'State_3_Index') with Action_0_Index: 0.2639037425425327\n",
      "Mutual Information for Features ('State_0_Index', 'State_2_Index', 'State_3_Index') with Action_0_Index: 0.5004786560849193\n",
      "Mutual Information for Features ('State_1_Index', 'State_2_Index', 'State_3_Index') with Action_0_Index: 0.493984728406845\n",
      "Mutual Information for Features ('State_0_Index', 'State_1_Index', 'State_2_Index', 'State_3_Index') with Action_0_Index: 0.7268770331259181\n",
      "Mutual Information for All Features as Values with Action_0_Index: 0.7268770331259181\n"
     ]
    }
   ],
   "execution_count": 5
  },
  {
   "metadata": {
    "ExecuteTime": {
     "end_time": "2024-11-25T04:56:31.336901Z",
     "start_time": "2024-11-25T04:56:30.057864Z"
    }
   },
   "cell_type": "code",
   "source": [
    "result = agent.query_q_table([])\n",
    "df = QTableAgent.compute_action_probabilities(result, strategy=\"softmax\", temperature=1.0)\n",
    "print(df)"
   ],
   "id": "f2f62b7f5d65d8bc",
   "outputs": [
    {
     "name": "stdout",
     "output_type": "stream",
     "text": [
      "      State_0_Index  State_1_Index  State_2_Index  State_3_Index  \\\n",
      "0                 0              0              7             13   \n",
      "1                 0              0              8             14   \n",
      "2                 0              0              9             12   \n",
      "3                 0              0              9             13   \n",
      "4                 0              0              9             14   \n",
      "...             ...            ...            ...            ...   \n",
      "3964              9              5              9             12   \n",
      "3965              9              6              8             10   \n",
      "3966              9              6              8             11   \n",
      "3967              9              7              7              9   \n",
      "3968              9              8              7              8   \n",
      "\n",
      "      State_0_Value  State_1_Value  State_2_Value  State_3_Value  \\\n",
      "0             -2.40      -2.000000      -0.016667       1.466667   \n",
      "1             -2.40      -2.000000       0.016667       1.733333   \n",
      "2             -2.40      -2.000000       0.050000       1.200000   \n",
      "3             -2.40      -2.000000       0.050000       1.466667   \n",
      "4             -2.40      -2.000000       0.050000       1.733333   \n",
      "...             ...            ...            ...            ...   \n",
      "3964           0.48      -0.666667       0.050000       1.200000   \n",
      "3965           0.48      -0.400000       0.016667       0.666667   \n",
      "3966           0.48      -0.400000       0.016667       0.933333   \n",
      "3967           0.48      -0.133333      -0.016667       0.400000   \n",
      "3968           0.48       0.133333      -0.016667       0.133333   \n",
      "\n",
      "      Action_0_Index_1_Probability  Action_0_Index_0_Probability  Visit_Count  \n",
      "0                              0.0                           1.0          1.0  \n",
      "1                              0.0                           1.0          1.0  \n",
      "2                              0.0                           1.0          2.0  \n",
      "3                              0.0                           1.0          1.0  \n",
      "4                              0.0                           1.0          3.0  \n",
      "...                            ...                           ...          ...  \n",
      "3964                           0.0                           1.0          1.0  \n",
      "3965                           0.0                           1.0          1.0  \n",
      "3966                           0.0                           1.0          1.0  \n",
      "3967                           0.0                           1.0          1.0  \n",
      "3968                           0.0                           1.0          1.0  \n",
      "\n",
      "[3969 rows x 11 columns]\n"
     ]
    }
   ],
   "execution_count": 6
  }
 ],
 "metadata": {
  "kernelspec": {
   "display_name": "Python 3",
   "language": "python",
   "name": "python3"
  },
  "language_info": {
   "codemirror_mode": {
    "name": "ipython",
    "version": 2
   },
   "file_extension": ".py",
   "mimetype": "text/x-python",
   "name": "python",
   "nbconvert_exporter": "python",
   "pygments_lexer": "ipython2",
   "version": "2.7.6"
  }
 },
 "nbformat": 4,
 "nbformat_minor": 5
}
